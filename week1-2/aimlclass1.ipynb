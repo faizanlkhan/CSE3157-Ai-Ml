{
 "cells": [
  {
   "cell_type": "code",
   "execution_count": 19,
   "id": "dc4ae6e0-cfa2-4395-8104-1f986d27f557",
   "metadata": {},
   "outputs": [
    {
     "name": "stdin",
     "output_type": "stream",
     "text": [
      " aabbaa\n"
     ]
    },
    {
     "name": "stdout",
     "output_type": "stream",
     "text": [
      "True\n"
     ]
    }
   ],
   "source": [
    "#PALINDROME\n",
    "\n",
    "def palindrome():\n",
    "    text = input()\n",
    "    text = text.replace(\" \",\"\").lower()\n",
    "    pal=text[::-1]\n",
    "    if (pal==text):\n",
    "        print(\"True\")\n",
    "    else:\n",
    "        print(\"False\")\n",
    "\n",
    "palindrome()"
   ]
  },
  {
   "cell_type": "code",
   "execution_count": 58,
   "id": "113697f5-1711-4b8f-b9c4-19768780bc0f",
   "metadata": {},
   "outputs": [
    {
     "name": "stdin",
     "output_type": "stream",
     "text": [
      " 5\n"
     ]
    },
    {
     "data": {
      "text/plain": [
       "'Prime'"
      ]
     },
     "execution_count": 58,
     "metadata": {},
     "output_type": "execute_result"
    }
   ],
   "source": [
    "#PRIME NUMBER\n",
    "\n",
    "def checkprime():\n",
    "    a = int(input())\n",
    "    for i in range (2,a-1):\n",
    "        if(a%i==0):\n",
    "            return \"Not Prime\"\n",
    "            break\n",
    "    else:\n",
    "        return \"Prime\"\n",
    "checkprime()"
   ]
  },
  {
   "cell_type": "code",
   "execution_count": 40,
   "id": "2027c211-31d8-4262-986e-0baaeea530c5",
   "metadata": {},
   "outputs": [
    {
     "name": "stdout",
     "output_type": "stream",
     "text": [
      "0.7751828186829752\n"
     ]
    }
   ],
   "source": [
    "import random\n",
    "a = random.random()\n",
    "print(a)"
   ]
  },
  {
   "cell_type": "code",
   "execution_count": 3,
   "id": "15e75d02-8e0d-40fb-9d1a-d7b494d4b0b4",
   "metadata": {},
   "outputs": [
    {
     "name": "stdout",
     "output_type": "stream",
     "text": [
      "Prime Numbers: [967, 257, 461, 653, 733, 761, 349, 307, 977, 829, 281]\n",
      "Numbers divisible by 5: [190, 525, 615, 275, 695, 645, 165, 275, 740, 885, 130, 150, 215, 370, 740, 390, 425]\n"
     ]
    }
   ],
   "source": [
    "import random\n",
    "\n",
    "def randomnum():\n",
    "    num = list()\n",
    "    for i in range(1, 100):\n",
    "        b = random.randint(100, 1000)\n",
    "        num.append(b)\n",
    "    return num\n",
    "num = randomnum()\n",
    "\n",
    "def checkprime(a):\n",
    "    if a <= 1:\n",
    "        return \"Prime\"\n",
    "    for i in range (2,a-1):\n",
    "        if(a%i==0):\n",
    "            return \"Not Prime\"\n",
    "    return \"Prime\"\n",
    "\n",
    "primenum = list()\n",
    "for a in num:\n",
    "    res = checkprime(a)\n",
    "    if res == \"Prime\":\n",
    "        primenum.append(a)\n",
    "print(\"Prime Numbers:\", primenum)\n",
    "\n",
    "def divby5(num):\n",
    "    return num % 5 == 0\n",
    "    \n",
    "div5 = list()\n",
    "for b in num:\n",
    "    if divby5(b):\n",
    "        div5.append(b)\n",
    "print(\"Numbers divisible by 5:\", div5)"
   ]
  },
  {
   "cell_type": "code",
   "execution_count": null,
   "id": "34289498-1194-44b2-8cc4-0e8f63845a87",
   "metadata": {},
   "outputs": [],
   "source": []
  }
 ],
 "metadata": {
  "kernelspec": {
   "display_name": "Python 3 (ipykernel)",
   "language": "python",
   "name": "python3"
  },
  "language_info": {
   "codemirror_mode": {
    "name": "ipython",
    "version": 3
   },
   "file_extension": ".py",
   "mimetype": "text/x-python",
   "name": "python",
   "nbconvert_exporter": "python",
   "pygments_lexer": "ipython3",
   "version": "3.12.0"
  }
 },
 "nbformat": 4,
 "nbformat_minor": 5
}
