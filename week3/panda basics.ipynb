{
 "cells": [
  {
   "cell_type": "code",
   "execution_count": 4,
   "id": "aa154231-d2c7-4198-9540-c9cefc8ca8ce",
   "metadata": {},
   "outputs": [
    {
     "name": "stdout",
     "output_type": "stream",
     "text": [
      "[1 2 3 4]\n"
     ]
    }
   ],
   "source": [
    "# 1D Array\n",
    "\n",
    "import numpy as np\n",
    "\n",
    "a1 = np.array([1,2,3,4])\n",
    "print(a1)"
   ]
  },
  {
   "cell_type": "code",
   "execution_count": 5,
   "id": "93e4fef0-0191-4d8d-9d79-d8d1348b701a",
   "metadata": {},
   "outputs": [
    {
     "data": {
      "text/plain": [
       "numpy.ndarray"
      ]
     },
     "execution_count": 5,
     "metadata": {},
     "output_type": "execute_result"
    }
   ],
   "source": [
    "type(a1)"
   ]
  },
  {
   "cell_type": "code",
   "execution_count": 6,
   "id": "b27fde60-90dd-45f9-b84a-79e4c2b92300",
   "metadata": {},
   "outputs": [
    {
     "data": {
      "text/plain": [
       "(4,)"
      ]
     },
     "execution_count": 6,
     "metadata": {},
     "output_type": "execute_result"
    }
   ],
   "source": [
    "a1.shape"
   ]
  },
  {
   "cell_type": "code",
   "execution_count": 8,
   "id": "056adbdd-5362-49f9-97af-cc654ca5786c",
   "metadata": {},
   "outputs": [
    {
     "data": {
      "text/plain": [
       "4"
      ]
     },
     "execution_count": 8,
     "metadata": {},
     "output_type": "execute_result"
    }
   ],
   "source": [
    "a1.size"
   ]
  },
  {
   "cell_type": "code",
   "execution_count": 11,
   "id": "d2df77be-9238-44b4-a792-49a447e3c629",
   "metadata": {},
   "outputs": [
    {
     "name": "stdout",
     "output_type": "stream",
     "text": [
      "[[1 2 3 4]\n",
      " [5 6 7 8]]\n"
     ]
    }
   ],
   "source": [
    "# 2D Array\n",
    "\n",
    "a2 = np.array([[1,2,3,4],[5,6,7,8]])\n",
    "print(a2)"
   ]
  },
  {
   "cell_type": "code",
   "execution_count": 14,
   "id": "7d30e1b1-4772-4ef2-bdfb-43b97a0eacf9",
   "metadata": {},
   "outputs": [
    {
     "data": {
      "text/plain": [
       "numpy.ndarray"
      ]
     },
     "execution_count": 14,
     "metadata": {},
     "output_type": "execute_result"
    }
   ],
   "source": [
    "type(a2)"
   ]
  },
  {
   "cell_type": "code",
   "execution_count": 12,
   "id": "347238ed-d0c1-434d-bc5f-f17fde7cba13",
   "metadata": {},
   "outputs": [
    {
     "data": {
      "text/plain": [
       "(2, 4)"
      ]
     },
     "execution_count": 12,
     "metadata": {},
     "output_type": "execute_result"
    }
   ],
   "source": [
    "a2.shape"
   ]
  },
  {
   "cell_type": "code",
   "execution_count": 13,
   "id": "e6d92ffd-c306-49ba-9c5f-142062443348",
   "metadata": {},
   "outputs": [
    {
     "data": {
      "text/plain": [
       "8"
      ]
     },
     "execution_count": 13,
     "metadata": {},
     "output_type": "execute_result"
    }
   ],
   "source": [
    "a2.size"
   ]
  },
  {
   "cell_type": "code",
   "execution_count": 16,
   "id": "7632bb94-ca2d-4aa7-be3d-db56ae45af20",
   "metadata": {},
   "outputs": [
    {
     "name": "stdout",
     "output_type": "stream",
     "text": [
      "[[[1 2 3]\n",
      "  [4 5 6]\n",
      "  [7 8 9]]]\n"
     ]
    }
   ],
   "source": [
    "# 3D Arrays\n",
    "\n",
    "a3 = np.array([[[1,2,3],[4,5,6],[7,8,9]]])\n",
    "print(a3)"
   ]
  },
  {
   "cell_type": "code",
   "execution_count": 18,
   "id": "05283f54-f1d2-4f5b-8f89-269f481b0100",
   "metadata": {},
   "outputs": [
    {
     "data": {
      "text/plain": [
       "numpy.ndarray"
      ]
     },
     "execution_count": 18,
     "metadata": {},
     "output_type": "execute_result"
    }
   ],
   "source": [
    "type(a3)"
   ]
  },
  {
   "cell_type": "code",
   "execution_count": 19,
   "id": "f7acfd94-6074-4a75-bc1e-87602202a582",
   "metadata": {},
   "outputs": [
    {
     "data": {
      "text/plain": [
       "(1, 3, 3)"
      ]
     },
     "execution_count": 19,
     "metadata": {},
     "output_type": "execute_result"
    }
   ],
   "source": [
    "a3.shape"
   ]
  },
  {
   "cell_type": "code",
   "execution_count": 20,
   "id": "c51d7810-7107-459f-ade8-3e891a5cd186",
   "metadata": {},
   "outputs": [
    {
     "data": {
      "text/plain": [
       "9"
      ]
     },
     "execution_count": 20,
     "metadata": {},
     "output_type": "execute_result"
    }
   ],
   "source": [
    "a3.size"
   ]
  },
  {
   "cell_type": "code",
   "execution_count": 25,
   "id": "57303048-3658-4dd0-ad05-f7a6791103b1",
   "metadata": {},
   "outputs": [
    {
     "name": "stdout",
     "output_type": "stream",
     "text": [
      "[0. 0. 0.]\n",
      "[0 0 0]\n"
     ]
    }
   ],
   "source": [
    "# Zero array - Create Array of zeros\n",
    "# ZA = np.zeros(shape,datatype) By default the data type is float\n",
    "\n",
    "# Default float datatype\n",
    "za = np.zeros(3)\n",
    "print(za)\n",
    "\n",
    "# With datatype\n",
    "za1 = np.zeros(3, int)\n",
    "print(za1)"
   ]
  },
  {
   "cell_type": "code",
   "execution_count": 32,
   "id": "b4349b80-0cb0-4f64-956c-2a1c094bfe14",
   "metadata": {},
   "outputs": [
    {
     "data": {
      "text/plain": [
       "array([[0., 0., 0., 0.],\n",
       "       [0., 0., 0., 0.],\n",
       "       [0., 0., 0., 0.]])"
      ]
     },
     "execution_count": 32,
     "metadata": {},
     "output_type": "execute_result"
    }
   ],
   "source": [
    "z2 = np.zeros((3,4))\n",
    "z2"
   ]
  },
  {
   "cell_type": "code",
   "execution_count": 33,
   "id": "98a3230f-250e-400a-a612-cde990e0cc49",
   "metadata": {},
   "outputs": [
    {
     "data": {
      "text/plain": [
       "(3, 4)"
      ]
     },
     "execution_count": 33,
     "metadata": {},
     "output_type": "execute_result"
    }
   ],
   "source": [
    "z2.shape"
   ]
  },
  {
   "cell_type": "code",
   "execution_count": 28,
   "id": "33de09ce-026d-4ca2-bf20-6aabea85fa4d",
   "metadata": {},
   "outputs": [
    {
     "data": {
      "text/plain": [
       "array([[0, 0, 0, 0],\n",
       "       [0, 0, 0, 0],\n",
       "       [0, 0, 0, 0]])"
      ]
     },
     "execution_count": 28,
     "metadata": {},
     "output_type": "execute_result"
    }
   ],
   "source": [
    "z3 = np.zeros((3,4),dtype=int)\n",
    "z3"
   ]
  },
  {
   "cell_type": "code",
   "execution_count": 35,
   "id": "dbe3fa5b-1077-4cfe-81b5-0902bf4d48fe",
   "metadata": {},
   "outputs": [
    {
     "data": {
      "text/plain": [
       "array([[0, 0, 0],\n",
       "       [0, 0, 0]])"
      ]
     },
     "execution_count": 35,
     "metadata": {},
     "output_type": "execute_result"
    }
   ],
   "source": [
    "z4 = np.zeros((2,3),dtype=int)\n",
    "z4"
   ]
  },
  {
   "cell_type": "code",
   "execution_count": 37,
   "id": "c6afc5be-5416-492c-bb8a-ece521a0e80a",
   "metadata": {},
   "outputs": [
    {
     "name": "stdout",
     "output_type": "stream",
     "text": [
      "Original Matrix (2x3):\n",
      "[[1 2 3]\n",
      " [4 5 6]]\n",
      "\n",
      "Transposed Matrix (3x2):\n",
      "[[1. 4.]\n",
      " [2. 5.]\n",
      " [3. 6.]]\n"
     ]
    }
   ],
   "source": [
    "# Convert a 2x3 matrix into a 3x2 matrix\n",
    "\n",
    "# Create a 2x3 matrix\n",
    "A = np.array([[1, 2, 3],\n",
    "              [4, 5, 6]])\n",
    "\n",
    "# Get the dimensions of the original matrix\n",
    "rows, cols = A.shape\n",
    "\n",
    "# Create an empty matrix for the transpose\n",
    "A_transpose = np.zeros((cols, rows))\n",
    "\n",
    "# Fill the transpose matrix\n",
    "for i in range(rows):\n",
    "    for j in range(cols):\n",
    "        A_transpose[j, i] = A[i, j]\n",
    "\n",
    "print(\"Original Matrix (2x3):\")\n",
    "print(A)\n",
    "\n",
    "print(\"\\nTransposed Matrix (3x2):\")\n",
    "print(A_transpose)"
   ]
  },
  {
   "cell_type": "code",
   "execution_count": 42,
   "id": "71c385f7-3ba7-4a57-b0d0-fa59eb22dce4",
   "metadata": {},
   "outputs": [
    {
     "name": "stdout",
     "output_type": "stream",
     "text": [
      "[[1 4]\n",
      " [2 5]\n",
      " [3 6]]\n"
     ]
    }
   ],
   "source": [
    "# Transpose with predefined functions\n",
    "\n",
    "matrix = np.array([[1,2,3],[4,5,6]])\n",
    "matrix\n",
    "transpose = matrix.T\n",
    "print(transpose)"
   ]
  },
  {
   "cell_type": "code",
   "execution_count": 58,
   "id": "de938873-092b-43c3-9090-ee8211de30cf",
   "metadata": {},
   "outputs": [
    {
     "data": {
      "text/plain": [
       "array([9, 9, 9])"
      ]
     },
     "execution_count": 58,
     "metadata": {},
     "output_type": "execute_result"
    }
   ],
   "source": [
    "# Full Arrays\n",
    "# f1 = np.full([shape],value)\n",
    "\n",
    "f1 = np.full(3,9)\n",
    "f1"
   ]
  },
  {
   "cell_type": "code",
   "execution_count": 66,
   "id": "6307d373-b839-4fd5-ad5e-e29b6d7ed069",
   "metadata": {},
   "outputs": [
    {
     "data": {
      "text/plain": [
       "1"
      ]
     },
     "execution_count": 66,
     "metadata": {},
     "output_type": "execute_result"
    }
   ],
   "source": [
    "# Shows the no of dimensions\n",
    "f1.ndim"
   ]
  },
  {
   "cell_type": "code",
   "execution_count": 64,
   "id": "dd647363-d06d-43c4-9118-b84d91de1769",
   "metadata": {},
   "outputs": [
    {
     "name": "stdout",
     "output_type": "stream",
     "text": [
      "[[7 7 7]\n",
      " [7 7 7]\n",
      " [7 7 7]]\n"
     ]
    },
    {
     "data": {
      "text/plain": [
       "2"
      ]
     },
     "execution_count": 64,
     "metadata": {},
     "output_type": "execute_result"
    }
   ],
   "source": [
    "f2 = np.full([3,3],7)\n",
    "print(f2)\n",
    "f2.ndim"
   ]
  },
  {
   "cell_type": "code",
   "execution_count": 65,
   "id": "8f3c5009-31f1-44c8-9998-132498f96b10",
   "metadata": {},
   "outputs": [
    {
     "name": "stdout",
     "output_type": "stream",
     "text": [
      "[[[10 10]\n",
      "  [10 10]\n",
      "  [10 10]\n",
      "  [10 10]]\n",
      "\n",
      " [[10 10]\n",
      "  [10 10]\n",
      "  [10 10]\n",
      "  [10 10]]\n",
      "\n",
      " [[10 10]\n",
      "  [10 10]\n",
      "  [10 10]\n",
      "  [10 10]]]\n"
     ]
    },
    {
     "data": {
      "text/plain": [
       "3"
      ]
     },
     "execution_count": 65,
     "metadata": {},
     "output_type": "execute_result"
    }
   ],
   "source": [
    "f3 = np.full([3,4,2],10)\n",
    "print(f3)\n",
    "f3.ndim"
   ]
  },
  {
   "cell_type": "code",
   "execution_count": 71,
   "id": "46cf57f2-7b13-469f-a8ef-f0240a48d687",
   "metadata": {},
   "outputs": [
    {
     "name": "stdout",
     "output_type": "stream",
     "text": [
      "[ 6  8 10 12]\n",
      "[-4 -4 -4 -4]\n",
      "[ 5 12 21 32]\n",
      "[0.2        0.33333333 0.42857143 0.5       ]\n",
      "[1 2 3 4]\n",
      "[    1    64  2187 65536]\n",
      "[0 0 0 0]\n"
     ]
    }
   ],
   "source": [
    "# Arithmetic Operations on 1D Square Matrix\n",
    "\n",
    "a = np.array([1,2,3,4])\n",
    "b = np.array([5,6,7,8])\n",
    "# c1 = a+b\n",
    "# c2 = a-b\n",
    "# c3 = a*b\n",
    "# c4 = a/b\n",
    "# c5 = a%b\n",
    "# c6 = a^b\n",
    "# c7 = a//b\n",
    "\n",
    "#or \n",
    "\n",
    "c1 = np.add(a,b)\n",
    "c2 = np.subtract(a,b)\n",
    "c3 = np.multiply(a,b)\n",
    "c4 = np.divide(a,b)\n",
    "c5 = np.mod(a,b)\n",
    "c6 = np.power(a,b)\n",
    "c7 = np.floor_divide(a,b)\n",
    "\n",
    "print(c1)\n",
    "print(c2)\n",
    "print(c3)\n",
    "print(c4)\n",
    "print(c5)\n",
    "print(c6)\n",
    "print(c7)"
   ]
  },
  {
   "cell_type": "code",
   "execution_count": 67,
   "id": "fead98ea-c6b0-499a-b874-a160844f82a5",
   "metadata": {},
   "outputs": [],
   "source": [
    "# Addition on non-square 1D matrix"
   ]
  }
 ],
 "metadata": {
  "kernelspec": {
   "display_name": "Python 3 (ipykernel)",
   "language": "python",
   "name": "python3"
  },
  "language_info": {
   "codemirror_mode": {
    "name": "ipython",
    "version": 3
   },
   "file_extension": ".py",
   "mimetype": "text/x-python",
   "name": "python",
   "nbconvert_exporter": "python",
   "pygments_lexer": "ipython3",
   "version": "3.12.0"
  }
 },
 "nbformat": 4,
 "nbformat_minor": 5
}
